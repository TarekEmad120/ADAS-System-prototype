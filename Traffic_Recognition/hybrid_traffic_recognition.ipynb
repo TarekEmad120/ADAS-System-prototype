{
 "cells": [
  {
   "cell_type": "markdown",
   "id": "1bf1d3d1",
   "metadata": {},
   "source": [
    "# Hybrid Approach\n",
    "- Deep learning to localize the sign using YOLO\n",
    "- classical ML to recognize the traffic sign using SVM"
   ]
  },
  {
   "cell_type": "markdown",
   "id": "88970573",
   "metadata": {},
   "source": [
    "# Dataset Manipulation"
   ]
  },
  {
   "cell_type": "markdown",
   "id": "b3185652",
   "metadata": {},
   "source": [
    "### dataset to YOLO format"
   ]
  },
  {
   "cell_type": "code",
   "execution_count": 1,
   "id": "8996b440",
   "metadata": {},
   "outputs": [
    {
     "name": "stdout",
     "output_type": "stream",
     "text": [
      "✅ Dataset prepared at: YOLO_dataset\n"
     ]
    }
   ],
   "source": [
    "import os\n",
    "import shutil\n",
    "\n",
    "# Paths\n",
    "root_dir = \"YOLODataset\"\n",
    "ts_dir = os.path.join(root_dir, \"ts\")\n",
    "train_txt = os.path.join(root_dir, \"train.txt\")\n",
    "val_txt = os.path.join(root_dir, \"test.txt\")\n",
    "\n",
    "# Output YOLO structure\n",
    "output_dir = \"YOLO_dataset\"\n",
    "images_train = os.path.join(output_dir, \"images/train\")\n",
    "images_val = os.path.join(output_dir, \"images/val\")\n",
    "labels_train = os.path.join(output_dir, \"labels/train\")\n",
    "labels_val = os.path.join(output_dir, \"labels/val\")\n",
    "\n",
    "# Create directories\n",
    "os.makedirs(images_train, exist_ok=True)\n",
    "os.makedirs(images_val, exist_ok=True)\n",
    "os.makedirs(labels_train, exist_ok=True)\n",
    "os.makedirs(labels_val, exist_ok=True)\n",
    "\n",
    "def process_split(txt_path, image_dst, label_dst):\n",
    "    with open(txt_path, 'r') as f:\n",
    "        lines = f.readlines()\n",
    "\n",
    "    for line in lines:\n",
    "        image_path = line.strip()\n",
    "        image_name = os.path.basename(image_path)\n",
    "        label_name = os.path.splitext(image_name)[0] + \".txt\"\n",
    "\n",
    "        full_image_path = os.path.join(ts_dir, image_name)\n",
    "        full_label_path = os.path.join(ts_dir, label_name)\n",
    "\n",
    "        # Copy image\n",
    "        shutil.copy(full_image_path, os.path.join(image_dst, image_name))\n",
    "\n",
    "        # Copy label\n",
    "        if os.path.exists(full_label_path):\n",
    "            shutil.copy(full_label_path, os.path.join(label_dst, label_name))\n",
    "        else:\n",
    "            print(f\"⚠️ Label not found for {image_name}\")\n",
    "\n",
    "# Process train and val splits\n",
    "process_split(train_txt, images_train, labels_train)\n",
    "process_split(val_txt, images_val, labels_val)\n",
    "\n",
    "# Create data.yaml\n",
    "data_yaml_path = os.path.join(output_dir, \"data.yaml\")\n",
    "with open(data_yaml_path, \"w\") as f:\n",
    "    f.write(f\"\"\"train: {os.path.abspath(images_train)}\n",
    "val: {os.path.abspath(images_val)}\n",
    "\n",
    "nc: 4\n",
    "names: ['prohibitory', 'danger', 'mandatory', 'other']\n",
    "\"\"\")\n",
    "\n",
    "print(\"✅ Dataset prepared at:\", output_dir)\n"
   ]
  },
  {
   "cell_type": "markdown",
   "id": "3130e006",
   "metadata": {},
   "source": [
    "# Train YOLO detector"
   ]
  },
  {
   "cell_type": "code",
   "execution_count": 11,
   "id": "678bfbd5",
   "metadata": {},
   "outputs": [
    {
     "name": "stderr",
     "output_type": "stream",
     "text": [
      "\n",
      "                   from  n    params  module                                       arguments                     \n",
      "  0                  -1  1       464  ultralytics.nn.modules.conv.Conv             [3, 16, 3, 2]                 \n",
      "  1                  -1  1      4672  ultralytics.nn.modules.conv.Conv             [16, 32, 3, 2]                \n",
      "  2                  -1  1      7360  ultralytics.nn.modules.block.C2f             [32, 32, 1, True]             \n",
      "  3                  -1  1     18560  ultralytics.nn.modules.conv.Conv             [32, 64, 3, 2]                \n",
      "  4                  -1  2     49664  ultralytics.nn.modules.block.C2f             [64, 64, 2, True]             \n",
      "  5                  -1  1     73984  ultralytics.nn.modules.conv.Conv             [64, 128, 3, 2]               \n",
      "  6                  -1  2    197632  ultralytics.nn.modules.block.C2f             [128, 128, 2, True]           \n",
      "  7                  -1  1    295424  ultralytics.nn.modules.conv.Conv             [128, 256, 3, 2]              \n",
      "  8                  -1  1    460288  ultralytics.nn.modules.block.C2f             [256, 256, 1, True]           \n",
      "  9                  -1  1    164608  ultralytics.nn.modules.block.SPPF            [256, 256, 5]                 \n",
      " 10                  -1  1         0  torch.nn.modules.upsampling.Upsample         [None, 2, 'nearest']          \n",
      " 11             [-1, 6]  1         0  ultralytics.nn.modules.conv.Concat           [1]                           \n",
      " 12                  -1  1    148224  ultralytics.nn.modules.block.C2f             [384, 128, 1]                 \n",
      " 13                  -1  1         0  torch.nn.modules.upsampling.Upsample         [None, 2, 'nearest']          \n",
      " 14             [-1, 4]  1         0  ultralytics.nn.modules.conv.Concat           [1]                           \n",
      " 15                  -1  1     37248  ultralytics.nn.modules.block.C2f             [192, 64, 1]                  \n",
      " 16                  -1  1     36992  ultralytics.nn.modules.conv.Conv             [64, 64, 3, 2]                \n",
      " 17            [-1, 12]  1         0  ultralytics.nn.modules.conv.Concat           [1]                           \n",
      " 18                  -1  1    123648  ultralytics.nn.modules.block.C2f             [192, 128, 1]                 \n",
      " 19                  -1  1    147712  ultralytics.nn.modules.conv.Conv             [128, 128, 3, 2]              \n",
      " 20             [-1, 9]  1         0  ultralytics.nn.modules.conv.Concat           [1]                           \n",
      " 21                  -1  1    493056  ultralytics.nn.modules.block.C2f             [384, 256, 1]                 \n",
      " 22        [15, 18, 21]  1    897664  ultralytics.nn.modules.head.Detect           [80, [64, 128, 256]]          \n",
      "YOLOv8n summary: 225 layers, 3157200 parameters, 3157184 gradients\n",
      "\n",
      "Transferred 355/355 items from pretrained weights\n"
     ]
    }
   ],
   "source": [
    "from ultralytics import YOLO\n",
    "\n",
    "model = YOLO(\"yolov8n.yaml\").load(\"yolov8n.pt\")  # build from YAML and transfer weights"
   ]
  },
  {
   "cell_type": "code",
   "execution_count": 13,
   "id": "0467b9ec",
   "metadata": {},
   "outputs": [
    {
     "name": "stderr",
     "output_type": "stream",
     "text": [
      "New https://pypi.org/project/ultralytics/8.3.133 available  Update with 'pip install -U ultralytics'\n",
      "Ultralytics YOLOv8.0.145  Python-3.7.9 torch-1.13.1+cpu CPU (13th Gen Intel Core(TM) i7-13620H)\n",
      "WARNING  Upgrade to torch>=2.0.0 for deterministic training.\n",
      "\u001b[34m\u001b[1mengine\\trainer: \u001b[0mtask=detect, mode=train, model=yolov8n.yaml, data=YOLO_dataset/data.yaml, epochs=5, patience=50, batch=16, imgsz=960, save=True, save_period=-1, cache=False, device=None, workers=8, project=None, name=None, exist_ok=False, pretrained=True, optimizer=auto, verbose=True, seed=0, deterministic=True, single_cls=False, rect=False, cos_lr=False, close_mosaic=10, resume=False, amp=True, fraction=1.0, profile=False, overlap_mask=True, mask_ratio=4, dropout=0.0, val=True, split=val, save_json=False, save_hybrid=False, conf=None, iou=0.7, max_det=300, half=False, dnn=False, plots=True, source=None, show=False, save_txt=False, save_conf=False, save_crop=False, show_labels=True, show_conf=True, vid_stride=1, line_width=None, visualize=False, augment=False, agnostic_nms=False, classes=None, retina_masks=False, boxes=True, format=torchscript, keras=False, optimize=False, int8=False, dynamic=False, simplify=False, opset=None, workspace=4, nms=False, lr0=0.01, lrf=0.01, momentum=0.937, weight_decay=0.0005, warmup_epochs=3.0, warmup_momentum=0.8, warmup_bias_lr=0.1, box=7.5, cls=0.5, dfl=1.5, pose=12.0, kobj=1.0, label_smoothing=0.0, nbs=64, hsv_h=0.015, hsv_s=0.7, hsv_v=0.4, degrees=0.0, translate=0.1, scale=0.5, shear=0.0, perspective=0.0, flipud=0.0, fliplr=0.5, mosaic=1.0, mixup=0.0, copy_paste=0.0, cfg=None, tracker=botsort.yaml, save_dir=runs\\detect\\train8\n",
      "\n",
      "                   from  n    params  module                                       arguments                     \n",
      "  0                  -1  1       464  ultralytics.nn.modules.conv.Conv             [3, 16, 3, 2]                 \n",
      "  1                  -1  1      4672  ultralytics.nn.modules.conv.Conv             [16, 32, 3, 2]                \n",
      "  2                  -1  1      7360  ultralytics.nn.modules.block.C2f             [32, 32, 1, True]             \n",
      "  3                  -1  1     18560  ultralytics.nn.modules.conv.Conv             [32, 64, 3, 2]                \n",
      "  4                  -1  2     49664  ultralytics.nn.modules.block.C2f             [64, 64, 2, True]             \n",
      "  5                  -1  1     73984  ultralytics.nn.modules.conv.Conv             [64, 128, 3, 2]               \n",
      "  6                  -1  2    197632  ultralytics.nn.modules.block.C2f             [128, 128, 2, True]           \n",
      "  7                  -1  1    295424  ultralytics.nn.modules.conv.Conv             [128, 256, 3, 2]              \n",
      "  8                  -1  1    460288  ultralytics.nn.modules.block.C2f             [256, 256, 1, True]           \n",
      "  9                  -1  1    164608  ultralytics.nn.modules.block.SPPF            [256, 256, 5]                 \n",
      " 10                  -1  1         0  torch.nn.modules.upsampling.Upsample         [None, 2, 'nearest']          \n",
      " 11             [-1, 6]  1         0  ultralytics.nn.modules.conv.Concat           [1]                           \n",
      " 12                  -1  1    148224  ultralytics.nn.modules.block.C2f             [384, 128, 1]                 \n",
      " 13                  -1  1         0  torch.nn.modules.upsampling.Upsample         [None, 2, 'nearest']          \n",
      " 14             [-1, 4]  1         0  ultralytics.nn.modules.conv.Concat           [1]                           \n",
      " 15                  -1  1     37248  ultralytics.nn.modules.block.C2f             [192, 64, 1]                  \n",
      " 16                  -1  1     36992  ultralytics.nn.modules.conv.Conv             [64, 64, 3, 2]                \n",
      " 17            [-1, 12]  1         0  ultralytics.nn.modules.conv.Concat           [1]                           \n",
      " 18                  -1  1    123648  ultralytics.nn.modules.block.C2f             [192, 128, 1]                 \n",
      " 19                  -1  1    147712  ultralytics.nn.modules.conv.Conv             [128, 128, 3, 2]              \n",
      " 20             [-1, 9]  1         0  ultralytics.nn.modules.conv.Concat           [1]                           \n",
      " 21                  -1  1    493056  ultralytics.nn.modules.block.C2f             [384, 256, 1]                 \n",
      " 22        [15, 18, 21]  1    752092  ultralytics.nn.modules.head.Detect           [4, [64, 128, 256]]           \n",
      "YOLOv8n summary: 225 layers, 3011628 parameters, 3011612 gradients\n",
      "\n",
      "Transferred 355/355 items from pretrained weights\n",
      "\u001b[34m\u001b[1mTensorBoard: \u001b[0mStart with 'tensorboard --logdir runs\\detect\\train8', view at http://localhost:6006/\n",
      "\u001b[34m\u001b[1mtrain: \u001b[0mScanning C:\\osama\\CUFE\\5-Senior2\\GP\\ADAS-System-prototype\\Traffic_Recognition\\YOLO_dataset\\labels\\train.cache... 630 images, 0 backgrounds, 0 corrupt: 100%|██████████| 630/630 [00:00<?, ?it/s]\n",
      "\u001b[34m\u001b[1mtrain: \u001b[0mWARNING  C:\\osama\\CUFE\\5-Senior2\\GP\\ADAS-System-prototype\\Traffic_Recognition\\YOLO_dataset\\images\\train\\00340.jpg: 1 duplicate labels removed\n",
      "\u001b[34m\u001b[1mval: \u001b[0mScanning C:\\osama\\CUFE\\5-Senior2\\GP\\ADAS-System-prototype\\Traffic_Recognition\\YOLO_dataset\\labels\\val.cache... 111 images, 0 backgrounds, 0 corrupt: 100%|██████████| 111/111 [00:00<?, ?it/s]\n",
      "Plotting labels to runs\\detect\\train8\\labels.jpg... \n",
      "\u001b[34m\u001b[1moptimizer:\u001b[0m AdamW(lr=0.00125, momentum=0.9) with parameter groups 57 weight(decay=0.0), 64 weight(decay=0.0005), 63 bias(decay=0.0)\n",
      "Image sizes 960 train, 960 val\n",
      "Using 0 dataloader workers\n",
      "Logging results to \u001b[1mruns\\detect\\train8\u001b[0m\n",
      "Starting training for 5 epochs...\n",
      "\n",
      "      Epoch    GPU_mem   box_loss   cls_loss   dfl_loss  Instances       Size\n",
      "        1/5         0G      1.057      3.641     0.8755         12        960: 100%|██████████| 40/40 [08:27<00:00, 12.68s/it]\n",
      "                 Class     Images  Instances      Box(P          R      mAP50  mAP50-95): 100%|██████████| 4/4 [00:24<00:00,  6.02s/it]\n",
      "                   all        111        179    0.00197      0.318      0.231      0.196\n",
      "\n",
      "      Epoch    GPU_mem   box_loss   cls_loss   dfl_loss  Instances       Size\n",
      "        2/5         0G     0.9083      2.398     0.8652          9        960: 100%|██████████| 40/40 [08:11<00:00, 12.28s/it]\n",
      "                 Class     Images  Instances      Box(P          R      mAP50  mAP50-95): 100%|██████████| 4/4 [00:23<00:00,  5.75s/it]\n",
      "                   all        111        179          1      0.155      0.717       0.57\n",
      "\n",
      "      Epoch    GPU_mem   box_loss   cls_loss   dfl_loss  Instances       Size\n",
      "        3/5         0G     0.8593      1.977     0.8532         16        960: 100%|██████████| 40/40 [08:09<00:00, 12.24s/it]\n",
      "                 Class     Images  Instances      Box(P          R      mAP50  mAP50-95): 100%|██████████| 4/4 [00:22<00:00,  5.72s/it]\n",
      "                   all        111        179      0.929      0.817      0.903      0.711\n",
      "\n",
      "      Epoch    GPU_mem   box_loss   cls_loss   dfl_loss  Instances       Size\n",
      "        4/5         0G     0.8247      1.748      0.844         16        960: 100%|██████████| 40/40 [08:09<00:00, 12.25s/it]\n",
      "                 Class     Images  Instances      Box(P          R      mAP50  mAP50-95): 100%|██████████| 4/4 [00:22<00:00,  5.74s/it]\n",
      "                   all        111        179      0.915      0.897       0.94      0.769\n",
      "\n",
      "      Epoch    GPU_mem   box_loss   cls_loss   dfl_loss  Instances       Size\n",
      "        5/5         0G     0.8066      1.548     0.8434          9        960: 100%|██████████| 40/40 [08:07<00:00, 12.19s/it]\n",
      "                 Class     Images  Instances      Box(P          R      mAP50  mAP50-95): 100%|██████████| 4/4 [00:23<00:00,  5.79s/it]\n",
      "                   all        111        179      0.903      0.896      0.959      0.794\n",
      "\n",
      "5 epochs completed in 0.718 hours.\n",
      "Optimizer stripped from runs\\detect\\train8\\weights\\last.pt, 6.3MB\n",
      "Optimizer stripped from runs\\detect\\train8\\weights\\best.pt, 6.3MB\n",
      "\n",
      "Validating runs\\detect\\train8\\weights\\best.pt...\n",
      "Ultralytics YOLOv8.0.145  Python-3.7.9 torch-1.13.1+cpu CPU (13th Gen Intel Core(TM) i7-13620H)\n",
      "YOLOv8n summary (fused): 168 layers, 3006428 parameters, 0 gradients\n",
      "                 Class     Images  Instances      Box(P          R      mAP50  mAP50-95): 100%|██████████| 4/4 [00:20<00:00,  5.02s/it]\n",
      "                   all        111        179      0.936      0.872      0.959      0.794\n",
      "           prohibitory        111         71      0.958      0.972      0.989      0.809\n",
      "                danger        111         36      0.928          1      0.995      0.857\n",
      "             mandatory        111         23      0.957      0.739       0.94      0.795\n",
      "                 other        111         49      0.901      0.776      0.912      0.715\n",
      "Speed: 2.5ms preprocess, 140.5ms inference, 0.0ms loss, 10.5ms postprocess per image\n",
      "Results saved to \u001b[1mruns\\detect\\train8\u001b[0m\n"
     ]
    }
   ],
   "source": [
    "model.train(data=\"YOLO_dataset/data.yaml\", epochs=5, imgsz=960, batch=16)"
   ]
  },
  {
   "cell_type": "markdown",
   "id": "be3298b0",
   "metadata": {},
   "source": [
    "## predict"
   ]
  },
  {
   "cell_type": "code",
   "execution_count": 1,
   "id": "ccde630b",
   "metadata": {},
   "outputs": [
    {
     "name": "stderr",
     "output_type": "stream",
     "text": [
      "c:\\Users\\OSAMA\\AppData\\Local\\Programs\\Python\\Python37\\lib\\site-packages\\tqdm\\auto.py:21: TqdmWarning: IProgress not found. Please update jupyter and ipywidgets. See https://ipywidgets.readthedocs.io/en/stable/user_install.html\n",
      "  from .autonotebook import tqdm as notebook_tqdm\n",
      "\n",
      "image 1/1 c:\\osama\\CUFE\\5-Senior2\\GP\\ADAS-System-prototype\\Traffic_Recognition\\YOLO_dataset\\images\\val\\00004.jpg: 576x960 1 prohibitory, 1 danger, 230.7ms\n",
      "Speed: 9.6ms preprocess, 230.7ms inference, 0.0ms postprocess per image at shape (1, 3, 576, 960)\n"
     ]
    },
    {
     "name": "stdout",
     "output_type": "stream",
     "text": [
      "Class: danger 0.99, BBox: (897, 342, 971, 408)\n",
      "Class: prohibitory 0.87, BBox: (905, 406, 956, 458)\n"
     ]
    }
   ],
   "source": [
    "from ultralytics import YOLO\n",
    "import cv2\n",
    "\n",
    "# Class names for your model (match your `data.yaml`)\n",
    "CLASS_NAMES = ['prohibitory', 'danger', 'mandatory', 'other']\n",
    "\n",
    "# Load trained model\n",
    "model = YOLO(\"runs/detect/train8/weights/best.pt\")\n",
    "\n",
    "# Load image\n",
    "img_path = \"YOLO_dataset/images/val/00004.jpg\"\n",
    "image = cv2.imread(img_path)\n",
    "\n",
    "# Run prediction\n",
    "results = model.predict(source=img_path, conf=0.5)\n",
    "\n",
    "# Get first result\n",
    "boxes = results[0].boxes\n",
    "\n",
    "# Draw bounding boxes\n",
    "for box in boxes:\n",
    "    # Get box coordinates (xyxy format: [x1, y1, x2, y2])\n",
    "    x1, y1, x2, y2 = map(int, box.xyxy[0])\n",
    "    cls_id = int(box.cls[0])\n",
    "    conf = float(box.conf[0])\n",
    "    label = f\"{CLASS_NAMES[cls_id]} {conf:.2f}\"\n",
    "\n",
    "    print(f\"Class: {label}, BBox: {x1, y1, x2, y2}\")\n",
    "\n",
    "    # Draw box\n",
    "    cv2.rectangle(image, (x1, y1), (x2, y2), (0, 255, 0), 2)\n",
    "\n",
    "# Show image\n",
    "cv2.imshow(\"Detected Image\", image)\n",
    "cv2.waitKey(0)\n",
    "cv2.destroyAllWindows()\n"
   ]
  },
  {
   "cell_type": "code",
   "execution_count": null,
   "id": "85f97d16",
   "metadata": {},
   "outputs": [],
   "source": []
  }
 ],
 "metadata": {
  "kernelspec": {
   "display_name": "Python 3",
   "language": "python",
   "name": "python3"
  },
  "language_info": {
   "codemirror_mode": {
    "name": "ipython",
    "version": 3
   },
   "file_extension": ".py",
   "mimetype": "text/x-python",
   "name": "python",
   "nbconvert_exporter": "python",
   "pygments_lexer": "ipython3",
   "version": "3.7.9"
  }
 },
 "nbformat": 4,
 "nbformat_minor": 5
}
